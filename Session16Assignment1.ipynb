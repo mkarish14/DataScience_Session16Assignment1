{
 "cells": [
  {
   "cell_type": "code",
   "execution_count": 10,
   "metadata": {},
   "outputs": [
    {
     "name": "stdout",
     "output_type": "stream",
     "text": [
      "Probability of exact 5 wrong answers 0.25\n"
     ]
    }
   ],
   "source": [
    "#Question1\n",
    "\"\"\"\n",
    "A test is conducted which is consisting of 20 MCQs (multiple choices questions) with\n",
    "every MCQ having its four options out of which only one is correct. Determine the\n",
    "probability that a person undertaking that test has answered exactly 5 questions wrong.\n",
    "\"\"\"\n",
    "N=20\n",
    "Wronganswers=5\n",
    "Rightanswers=15\n",
    "\n",
    "Probabilityof_wrong=5/20\n",
    "print(\"Probability of exact 5 wrong answers\",Probabilityof_wrong)\n",
    "\n"
   ]
  },
  {
   "cell_type": "code",
   "execution_count": 11,
   "metadata": {},
   "outputs": [
    {
     "name": "stdout",
     "output_type": "stream",
     "text": [
      "Probability of getting D exactly 5 times 0.8\n"
     ]
    }
   ],
   "source": [
    "#Question 2\n",
    "\n",
    "\"\"\"\n",
    "A die marked A to E is rolled 50 times. Find the probability of getting a “D” exactly 5\n",
    "times.\n",
    "\"\"\"\n",
    "DieN=50\n",
    "d=5\n",
    "DienotgettingD=45\n",
    "\n",
    "success_probab=1/5\n",
    "failure_probab= 1 - success_probab\n",
    "print(\"Probability of getting D exactly 5 times\",failure_probab)\n",
    "\n",
    "\n"
   ]
  },
  {
   "cell_type": "code",
   "execution_count": 12,
   "metadata": {},
   "outputs": [
    {
     "name": "stdout",
     "output_type": "stream",
     "text": [
      "The probability of 0 black balls: 0.13333333333333333\n",
      "The probability of 1 black balls (RB/BR): 0.26666666666666666\n",
      "The probability of 2 black balls: 0.3333333333333333\n"
     ]
    }
   ],
   "source": [
    "#Question3\n",
    "\"\"\"\n",
    "Two balls are drawn at random in succession without replacement from an urn\n",
    "containing 4 red balls and 6 black balls.\n",
    "Find the probabilities of all the possible outcomes.\n",
    "\"\"\"\n",
    "probabRR = (4/10)*(3/9)\n",
    "probabRB = (4/10)*(6/9)\n",
    "probabBR = (6/10)*(4/9)\n",
    "probabBB = (6/10)*(5/9)\n",
    "\n",
    "print(\"The probability of 0 black balls:\",probabRR)\n",
    "print(\"The probability of 1 black balls (RB/BR):\",probabRB)\n",
    "print(\"The probability of 2 black balls:\",probabBB)\n"
   ]
  },
  {
   "cell_type": "code",
   "execution_count": null,
   "metadata": {
    "collapsed": true
   },
   "outputs": [],
   "source": []
  }
 ],
 "metadata": {
  "kernelspec": {
   "display_name": "Python 3",
   "language": "python",
   "name": "python3"
  },
  "language_info": {
   "codemirror_mode": {
    "name": "ipython",
    "version": 3
   },
   "file_extension": ".py",
   "mimetype": "text/x-python",
   "name": "python",
   "nbconvert_exporter": "python",
   "pygments_lexer": "ipython3",
   "version": "3.6.3"
  }
 },
 "nbformat": 4,
 "nbformat_minor": 2
}
